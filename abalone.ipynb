{
 "metadata": {
  "language_info": {
   "codemirror_mode": {
    "name": "ipython",
    "version": 3
   },
   "file_extension": ".py",
   "mimetype": "text/x-python",
   "name": "python",
   "nbconvert_exporter": "python",
   "pygments_lexer": "ipython3",
   "version": "3.7.10"
  },
  "orig_nbformat": 4,
  "kernelspec": {
   "name": "python3",
   "display_name": "Python 3.7.10 64-bit ('learning-mlflow': conda)"
  },
  "interpreter": {
   "hash": "097fbba83983bec28dac5c9c7fe9500d2eb6fc6216512579e57e851792f34b3b"
  }
 },
 "nbformat": 4,
 "nbformat_minor": 2,
 "cells": [
  {
   "cell_type": "code",
   "execution_count": 13,
   "metadata": {},
   "outputs": [],
   "source": [
    "import argparse \n",
    "import pathlib\n",
    "import yaml \n",
    "\n",
    "import numpy as np \n",
    "import pandas as pd \n",
    "from sklearn.model_selection import train_test_split \n",
    "\n",
    "import mlflow "
   ]
  },
  {
   "cell_type": "code",
   "execution_count": 14,
   "metadata": {},
   "outputs": [],
   "source": [
    "RANDOM_STATE = 42\n",
    "RAW_SCHEMA_PATH = 'schema.yml'\n",
    "RAW_PATH = 'data/raw/abalone.csv'\n",
    "TARGET_COL = 'rings'\n",
    "TRAIN_FRAC = 0.7\n",
    "VAL_FRAC = 0.15"
   ]
  },
  {
   "cell_type": "code",
   "execution_count": 15,
   "metadata": {},
   "outputs": [],
   "source": [
    "def load_data(raw_path, raw_schema, target_col):\n",
    "    raw = pd.read_csv(\n",
    "        raw_path,\n",
    "        dtype=raw_schema\n",
    "    )\n",
    "    X = raw.copy()\n",
    "    y = X.pop(target_col)\n",
    "    return raw, X, y"
   ]
  },
  {
   "cell_type": "code",
   "execution_count": 16,
   "metadata": {},
   "outputs": [],
   "source": [
    "def split_data(X, y, train_frac, val_frac, random_state):\n",
    "    test_frac = 1 - train_frac - val_frac \n",
    "    X_train, X_tmp, y_train, y_tmp = train_test_split(\n",
    "        X, y, test_size=val_frac + test_frac, shuffle=True, random_state=random_state\n",
    "    )\n",
    "    X_val, X_test, y_val, y_test = train_test_split(\n",
    "        X_tmp, y_tmp, test_size=test_frac / (val_frac + test_frac), random_state=random_state\n",
    "    )\n",
    "    return X_train, X_val, X_test, y_train, y_val, y_test "
   ]
  },
  {
   "cell_type": "code",
   "execution_count": null,
   "metadata": {},
   "outputs": [],
   "source": [
    "pathlib.Path(args.tmp_data_dir + \"split/\").mkdir(parents=True, exist_ok=True)"
   ]
  },
  {
   "cell_type": "code",
   "execution_count": 17,
   "metadata": {},
   "outputs": [],
   "source": [
    "def transform_data(raw_schema, X_train, X_val, X_test):\n",
    "    numeric_features = list(raw_schema.keys())\n",
    "    numeric_features.remove(\"sex\")\n",
    "    numeric_transformer = Pipeline(\n",
    "        steps=[(\"imputer\", SimpleImputer(strategy=\"median\")), (\"scaler\", StandardScaler())]\n",
    "    )\n",
    "\n",
    "    categorical_features = [\"sex\"]\n",
    "    categorical_transformer = Pipeline(\n",
    "        steps=[\n",
    "            (\"imputer\", SimpleImputer(strategy=\"constant\", fill_value=\"missing\")),\n",
    "            (\"onehot\", OneHotEncoder(handle_unknown=\"ignore\")),\n",
    "        ]\n",
    "    )\n",
    "\n",
    "    preprocess = ColumnTransformer(\n",
    "        transformers=[\n",
    "            (\"num\", numeric_transformer, numeric_features),\n",
    "            (\"cat\", categorical_transformer, categorical_features),\n",
    "        ]\n",
    "    )\n",
    "\n",
    "    X_train_transf = preprocess.fit_transform(X_train)\n",
    "    X_val_transf = preprocess.transform(X_val)\n",
    "    X_test_transf = preprocess.transform(X_test)\n",
    "\n",
    "    return preprocess, X_train_transf, X_val_transf, X_test_transf"
   ]
  },
  {
   "cell_type": "code",
   "execution_count": null,
   "metadata": {},
   "outputs": [],
   "source": [
    "def write_data_to_csv(X, y, X_train, X_val, X_test, y_train, y_val, y_test, X_train_transf, X_val_transf, X_test_transf):\n",
    "    pathlib.Path('data/raw/').mkdir(parents=True, exist_ok=True)\n",
    "    X.to_csv('data/raw/X.csv', index=False)\n",
    "    y.to_csv('data/raw/y.csv', index=False)\n",
    "\n",
    "    pathlib.Path('data/split/').mkdir(parents=True, exist_ok=True)\n",
    "    X_train.to_csv('data/split/X_train.csv', index=False)\n",
    "    y_train.to_csv('data/split/y_train.csv', index=False)\n",
    "    X_val.to_csv('data/split/X_val.csv', index=False)\n",
    "    y_val.to_csv('data/split/y_val.csv', index=False)\n",
    "    X_test.to_csv('data/split/X_test.csv', index=False)\n",
    "    y_test.to_csv('data/split/y_test.csv', index=False)\n",
    "\n",
    "    pathlib.Path('data/transformed/').mkdir(parents=True, exist_ok=True)\n",
    "    X_train_transf.to_csv('data/raw/X_train_transf.csv', index=False)\n",
    "    y_train_transf.to_csv('data/raw/y_train_transf.csv', index=False)\n",
    "    X_val.to_csv('data/raw/X_val.csv', index=False)\n",
    "    y_val.to_csv('data/raw/y_val.csv', index=False)\n",
    "    X_test.to_csv('data/raw/X_test.csv', index=False)\n",
    "    y_test.to_csv('data/raw/y_test.csv', index=False)\n",
    "    "
   ]
  },
  {
   "cell_type": "code",
   "execution_count": null,
   "metadata": {},
   "outputs": [],
   "source": [
    "def main():\n",
    "    with mlflow.start_run() as run:\n",
    "        with open(RAW_SCHEMA_PATH) as file:\n",
    "            raw_schema = yaml.load(file, Loader=yaml.FullLoader)\n",
    "\n",
    "        raw, X, y = load_data(raw_path=RAW_PATH, raw_schema=raw_schema, target_col=TARGET_COL)\n",
    "        X_train, X_val, X_test, y_train, y_val, y_test = split_data(\n",
    "            X=X, y=y, train_frac=TRAIN_FRAC, val_frac=VAL_FRAC, random_state=RANDOM_STATE\n",
    "        )\n",
    "        preprocess, X_train_transf, X_val_transf, X_test_transf = transform_data(\n",
    "            raw_schema=raw_schema, X_train=X_train, X_val=X_val, X_test=X_test\n",
    "        )\n",
    "        write_data_to_csv(\n",
    "            X, y, X_train, X_val, X_test, y_train, y_val, y_test, X_train_transf, X_val_transf, X_test_transf\n",
    "        )\n",
    "        # train()\n",
    "\n",
    "        # LOG EVERYTHING TO MLFLOW ... DIRECTORY CONTAINING DATA, PREPROCESSOR, \n",
    "\n"
   ]
  },
  {
   "cell_type": "code",
   "execution_count": null,
   "metadata": {},
   "outputs": [],
   "source": [
    "main()"
   ]
  }
 ]
}